{
 "cells": [
  {
   "attachments": {},
   "cell_type": "markdown",
   "metadata": {},
   "source": [
    "<div style=\"display:flex;justify-content:center\">\n",
    "    <img src=\"https://unram.ac.id/wp-content/uploads/2018/09/UNRAM-LOGO-FIX-STATUTA-.png\" style=\"height: 100px\" /> \n",
    "    <img src=\"https://s3.dualstack.us-east-2.amazonaws.com/pythondotorg-assets/media/community/logos/python-logo-only.png\" style=\"height: 100px\"/> \n",
    "</div>\n"
   ]
  },
  {
   "attachments": {},
   "cell_type": "markdown",
   "metadata": {},
   "source": [
    "<h1 align=\"center\">Pemodelan dan Simulasi Monte Carlo dalam Meningkatkan Pendapatan Penjualan Peralatan Motor</h1>"
   ]
  },
  {
   "attachments": {},
   "cell_type": "markdown",
   "metadata": {},
   "source": [
    "# Table of Content\n",
    "<ul style=\"list-style:none\">\n",
    "    <li>\n",
    "        <a href=\"#data-awal\">Menampilkan data awal</a>\n",
    "    </li>\n",
    "    <li>Melakukan uji Proses Preprocessing Terhadap Data</li>\n",
    "    <li>Melakukan uji hipotesis</li>\n",
    "    <li>Melakukan uji normalitas</li>\n",
    "    <li>Melakukan uji homogenitas</li>\n",
    "    <li>Memilih salah satu metode analisis</li>\n",
    "</ul>"
   ]
  },
  {
   "cell_type": "code",
   "execution_count": 58,
   "metadata": {},
   "outputs": [],
   "source": [
    "import pandas as pd\n",
    "import numpy as np\n",
    "import matplotlib as mpl"
   ]
  },
  {
   "attachments": {},
   "cell_type": "markdown",
   "metadata": {},
   "source": [
    "<h1 id=\"data-awal\">Data Awal</h1>"
   ]
  },
  {
   "cell_type": "code",
   "execution_count": 59,
   "metadata": {},
   "outputs": [
    {
     "data": {
      "text/html": [
       "<div>\n",
       "<style scoped>\n",
       "    .dataframe tbody tr th:only-of-type {\n",
       "        vertical-align: middle;\n",
       "    }\n",
       "\n",
       "    .dataframe tbody tr th {\n",
       "        vertical-align: top;\n",
       "    }\n",
       "\n",
       "    .dataframe thead th {\n",
       "        text-align: right;\n",
       "    }\n",
       "</style>\n",
       "<table border=\"1\" class=\"dataframe\">\n",
       "  <thead>\n",
       "    <tr style=\"text-align: right;\">\n",
       "      <th></th>\n",
       "      <th>Bulan</th>\n",
       "      <th>PM1</th>\n",
       "      <th>PM2</th>\n",
       "      <th>PM3</th>\n",
       "    </tr>\n",
       "  </thead>\n",
       "  <tbody>\n",
       "    <tr>\n",
       "      <th>0</th>\n",
       "      <td>Jan</td>\n",
       "      <td>28</td>\n",
       "      <td>25</td>\n",
       "      <td>15</td>\n",
       "    </tr>\n",
       "    <tr>\n",
       "      <th>1</th>\n",
       "      <td>Feb</td>\n",
       "      <td>15</td>\n",
       "      <td>23</td>\n",
       "      <td>18</td>\n",
       "    </tr>\n",
       "    <tr>\n",
       "      <th>2</th>\n",
       "      <td>Mar</td>\n",
       "      <td>22</td>\n",
       "      <td>26</td>\n",
       "      <td>10</td>\n",
       "    </tr>\n",
       "    <tr>\n",
       "      <th>3</th>\n",
       "      <td>Apr</td>\n",
       "      <td>9</td>\n",
       "      <td>5</td>\n",
       "      <td>10</td>\n",
       "    </tr>\n",
       "    <tr>\n",
       "      <th>4</th>\n",
       "      <td>Mei</td>\n",
       "      <td>30</td>\n",
       "      <td>28</td>\n",
       "      <td>16</td>\n",
       "    </tr>\n",
       "    <tr>\n",
       "      <th>5</th>\n",
       "      <td>Jun</td>\n",
       "      <td>27</td>\n",
       "      <td>23</td>\n",
       "      <td>14</td>\n",
       "    </tr>\n",
       "    <tr>\n",
       "      <th>6</th>\n",
       "      <td>Jul</td>\n",
       "      <td>35</td>\n",
       "      <td>25</td>\n",
       "      <td>18</td>\n",
       "    </tr>\n",
       "    <tr>\n",
       "      <th>7</th>\n",
       "      <td>Agu</td>\n",
       "      <td>28</td>\n",
       "      <td>20</td>\n",
       "      <td>18</td>\n",
       "    </tr>\n",
       "    <tr>\n",
       "      <th>8</th>\n",
       "      <td>Sep</td>\n",
       "      <td>18</td>\n",
       "      <td>22</td>\n",
       "      <td>18</td>\n",
       "    </tr>\n",
       "    <tr>\n",
       "      <th>9</th>\n",
       "      <td>Okt</td>\n",
       "      <td>25</td>\n",
       "      <td>18</td>\n",
       "      <td>10</td>\n",
       "    </tr>\n",
       "    <tr>\n",
       "      <th>10</th>\n",
       "      <td>Nov</td>\n",
       "      <td>32</td>\n",
       "      <td>22</td>\n",
       "      <td>16</td>\n",
       "    </tr>\n",
       "    <tr>\n",
       "      <th>11</th>\n",
       "      <td>Des</td>\n",
       "      <td>20</td>\n",
       "      <td>25</td>\n",
       "      <td>20</td>\n",
       "    </tr>\n",
       "  </tbody>\n",
       "</table>\n",
       "</div>"
      ],
      "text/plain": [
       "   Bulan PM1 PM2 PM3\n",
       "0    Jan  28  25  15\n",
       "1    Feb  15  23  18\n",
       "2    Mar  22  26  10\n",
       "3    Apr   9   5  10\n",
       "4    Mei  30  28  16\n",
       "5    Jun  27  23  14\n",
       "6    Jul  35  25  18\n",
       "7    Agu  28  20  18\n",
       "8    Sep  18  22  18\n",
       "9    Okt  25  18  10\n",
       "10   Nov  32  22  16\n",
       "11   Des  20  25  20"
      ]
     },
     "execution_count": 59,
     "metadata": {},
     "output_type": "execute_result"
    }
   ],
   "source": [
    "excel_path = \"dataset.xlsx\"\n",
    "df = pd.read_excel(excel_path,usecols=[1,2,3,4]).astype(str)\n",
    "df.head(12)"
   ]
  },
  {
   "attachments": {},
   "cell_type": "markdown",
   "metadata": {},
   "source": [
    "<h1 id=\"pre\">Uji Proses Preprocessing </h1>"
   ]
  },
  {
   "attachments": {},
   "cell_type": "markdown",
   "metadata": {},
   "source": [
    "## 1. Format Penulisan"
   ]
  },
  {
   "cell_type": "code",
   "execution_count": 60,
   "metadata": {},
   "outputs": [
    {
     "name": "stderr",
     "output_type": "stream",
     "text": [
      "C:\\Users\\ACER\\AppData\\Local\\Temp\\ipykernel_24808\\79152577.py:1: FutureWarning: The default value of regex will change from True to False in a future version.\n",
      "  df[\"PM1\"] = df[\"PM1\"].str.replace('[a-zA-Z]', '')\n",
      "C:\\Users\\ACER\\AppData\\Local\\Temp\\ipykernel_24808\\79152577.py:2: FutureWarning: The default value of regex will change from True to False in a future version.\n",
      "  df[\"PM2\"] = df[\"PM2\"].str.replace('[a-zA-Z]', '')\n",
      "C:\\Users\\ACER\\AppData\\Local\\Temp\\ipykernel_24808\\79152577.py:3: FutureWarning: The default value of regex will change from True to False in a future version.\n",
      "  df[\"PM3\"] = df[\"PM3\"].str.replace('[a-zA-Z]', '')\n"
     ]
    },
    {
     "data": {
      "text/plain": [
       "Bulan    object\n",
       "PM1       int32\n",
       "PM2       int32\n",
       "PM3       int32\n",
       "dtype: object"
      ]
     },
     "execution_count": 60,
     "metadata": {},
     "output_type": "execute_result"
    }
   ],
   "source": [
    "df[\"PM1\"] = df[\"PM1\"].str.replace('[a-zA-Z]', '')\n",
    "df[\"PM2\"] = df[\"PM2\"].str.replace('[a-zA-Z]', '')\n",
    "df[\"PM3\"] = df[\"PM3\"].str.replace('[a-zA-Z]', '')\n",
    "df[\"PM1\"] = df[\"PM1\"].astype(int)\n",
    "df[\"PM2\"] = df[\"PM2\"].astype(int)\n",
    "df[\"PM3\"] = df[\"PM3\"].astype(int)\n",
    "df.dtypes"
   ]
  },
  {
   "attachments": {},
   "cell_type": "markdown",
   "metadata": {},
   "source": [
    "## 2. Data Kosong"
   ]
  },
  {
   "cell_type": "code",
   "execution_count": 61,
   "metadata": {},
   "outputs": [],
   "source": [
    "df = df.dropna()"
   ]
  }
 ],
 "metadata": {
  "kernelspec": {
   "display_name": "Python 3",
   "language": "python",
   "name": "python3"
  },
  "language_info": {
   "codemirror_mode": {
    "name": "ipython",
    "version": 3
   },
   "file_extension": ".py",
   "mimetype": "text/x-python",
   "name": "python",
   "nbconvert_exporter": "python",
   "pygments_lexer": "ipython3",
   "version": "3.11.2"
  },
  "orig_nbformat": 4
 },
 "nbformat": 4,
 "nbformat_minor": 2
}
