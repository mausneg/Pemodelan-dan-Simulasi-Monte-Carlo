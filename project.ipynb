{
 "cells": [
  {
   "attachments": {},
   "cell_type": "markdown",
   "metadata": {},
   "source": [
    "<div style=\"display:flex;justify-content:center\">\n",
    "    <img src=\"https://unram.ac.id/wp-content/uploads/2018/09/UNRAM-LOGO-FIX-STATUTA-.png\" style=\"height: 100px\" /> \n",
    "    <img src=\"https://s3.dualstack.us-east-2.amazonaws.com/pythondotorg-assets/media/community/logos/python-logo-only.png\" style=\"height: 100px\"/> \n",
    "</div>\n"
   ]
  },
  {
   "attachments": {},
   "cell_type": "markdown",
   "metadata": {},
   "source": [
    "<h1 align=\"center\">Pemodelan dan Simulasi Monte Carlo dalam Meningkatkan Pendapatan Penjualan Peralatan Motor</h1>"
   ]
  },
  {
   "attachments": {},
   "cell_type": "markdown",
   "metadata": {},
   "source": [
    "# Table of Content\n",
    "<ul style=\"list-style:none\">\n",
    "    <li>\n",
    "        <a href=\"#data-awal\">Menampilkan data awal</a>\n",
    "    </li>\n",
    "    <li>\n",
    "        <a href=\"#preprocessing\">Melakukan uji Proses Preprocessing Terhadap Data</a>\n",
    "    </li>\n",
    "    <li>Melakukan uji hipotesis</li>\n",
    "    <li>Melakukan uji normalitas</li>\n",
    "    <li>Melakukan uji homogenitas</li>\n",
    "    <li>Memilih salah satu metode analisis</li>\n",
    "</ul>\n",
    "<hr>"
   ]
  },
  {
   "attachments": {},
   "cell_type": "markdown",
   "metadata": {},
   "source": [
    "Hal pertama yang harus dilakukan yaitu melakukan import library-library yang dibutuhkan dalam proses pengolahan data. Library-library tersebut sebagai berikut.\n",
    "1. Pandas :\n",
    "Pandas adalah library yang digunakan untuk manipulasi dan analisis data. Pandas menyediakan struktur data yang efisien dan fleksibel, yaitu DataFrames, yang memungkinkan untuk mengolah data dengan mudah.\n",
    "2. NumPy :\n",
    "NumPy (Numerical Python) adalah library yang digunakan untuk melakukan komputasi numerik dengan Python. NumPy menyediakan struktur data array multidimensi yang efisien dan operasi matematika yang cepat pada array tersebut\n",
    "3. Matplotlib :\n",
    "Matplotlib adalah library yang digunakan untuk membuat visualisasi data dengan Python. Matplotlib menyediakan berbagai fungsi dan alat untuk membuat grafik dan plot yang menarik dan informatif. "
   ]
  },
  {
   "cell_type": "code",
   "execution_count": 50,
   "metadata": {},
   "outputs": [],
   "source": [
    "import pandas as pd\n",
    "import numpy as np\n",
    "import matplotlib.pyplot as plt\n",
    "import scipy.stats as stats"
   ]
  },
  {
   "attachments": {},
   "cell_type": "markdown",
   "metadata": {},
   "source": [
    "<h1 id=\"data-awal\">Data Awal</h1>"
   ]
  },
  {
   "attachments": {},
   "cell_type": "markdown",
   "metadata": {},
   "source": [
    "Pada tahap ini hal pertama yang akan dilakukan adalah untuk mengimport sebuah file excel yang akan digunakan sebagai sumber data yang akan diolah, kemudian menampilkan data tersebut menggunakan library pandas."
   ]
  },
  {
   "cell_type": "code",
   "execution_count": 51,
   "metadata": {},
   "outputs": [
    {
     "data": {
      "text/html": [
       "<div>\n",
       "<style scoped>\n",
       "    .dataframe tbody tr th:only-of-type {\n",
       "        vertical-align: middle;\n",
       "    }\n",
       "\n",
       "    .dataframe tbody tr th {\n",
       "        vertical-align: top;\n",
       "    }\n",
       "\n",
       "    .dataframe thead th {\n",
       "        text-align: right;\n",
       "    }\n",
       "</style>\n",
       "<table border=\"1\" class=\"dataframe\">\n",
       "  <thead>\n",
       "    <tr style=\"text-align: right;\">\n",
       "      <th></th>\n",
       "      <th>Bulan</th>\n",
       "      <th>PM1</th>\n",
       "      <th>PM2</th>\n",
       "      <th>PM3</th>\n",
       "    </tr>\n",
       "  </thead>\n",
       "  <tbody>\n",
       "    <tr>\n",
       "      <th>0</th>\n",
       "      <td>Jan</td>\n",
       "      <td>28</td>\n",
       "      <td>25</td>\n",
       "      <td>15</td>\n",
       "    </tr>\n",
       "    <tr>\n",
       "      <th>1</th>\n",
       "      <td>Feb</td>\n",
       "      <td>15</td>\n",
       "      <td>23</td>\n",
       "      <td>18</td>\n",
       "    </tr>\n",
       "    <tr>\n",
       "      <th>2</th>\n",
       "      <td>Mar</td>\n",
       "      <td>22</td>\n",
       "      <td>26</td>\n",
       "      <td>10</td>\n",
       "    </tr>\n",
       "    <tr>\n",
       "      <th>3</th>\n",
       "      <td>Apr</td>\n",
       "      <td>9</td>\n",
       "      <td>5</td>\n",
       "      <td>10</td>\n",
       "    </tr>\n",
       "    <tr>\n",
       "      <th>4</th>\n",
       "      <td>Mei</td>\n",
       "      <td>30</td>\n",
       "      <td>28</td>\n",
       "      <td>16</td>\n",
       "    </tr>\n",
       "    <tr>\n",
       "      <th>5</th>\n",
       "      <td>Jun</td>\n",
       "      <td>27</td>\n",
       "      <td>23</td>\n",
       "      <td>14</td>\n",
       "    </tr>\n",
       "    <tr>\n",
       "      <th>6</th>\n",
       "      <td>Jul</td>\n",
       "      <td>35</td>\n",
       "      <td>25</td>\n",
       "      <td>18</td>\n",
       "    </tr>\n",
       "    <tr>\n",
       "      <th>7</th>\n",
       "      <td>Agu</td>\n",
       "      <td>28</td>\n",
       "      <td>20</td>\n",
       "      <td>18</td>\n",
       "    </tr>\n",
       "    <tr>\n",
       "      <th>8</th>\n",
       "      <td>Sep</td>\n",
       "      <td>18</td>\n",
       "      <td>22</td>\n",
       "      <td>18</td>\n",
       "    </tr>\n",
       "    <tr>\n",
       "      <th>9</th>\n",
       "      <td>Okt</td>\n",
       "      <td>25</td>\n",
       "      <td>18</td>\n",
       "      <td>10</td>\n",
       "    </tr>\n",
       "    <tr>\n",
       "      <th>10</th>\n",
       "      <td>Nov</td>\n",
       "      <td>32</td>\n",
       "      <td>22</td>\n",
       "      <td>16</td>\n",
       "    </tr>\n",
       "    <tr>\n",
       "      <th>11</th>\n",
       "      <td>Des</td>\n",
       "      <td>20</td>\n",
       "      <td>25</td>\n",
       "      <td>20</td>\n",
       "    </tr>\n",
       "  </tbody>\n",
       "</table>\n",
       "</div>"
      ],
      "text/plain": [
       "   Bulan PM1 PM2 PM3\n",
       "0    Jan  28  25  15\n",
       "1    Feb  15  23  18\n",
       "2    Mar  22  26  10\n",
       "3    Apr   9   5  10\n",
       "4    Mei  30  28  16\n",
       "5    Jun  27  23  14\n",
       "6    Jul  35  25  18\n",
       "7    Agu  28  20  18\n",
       "8    Sep  18  22  18\n",
       "9    Okt  25  18  10\n",
       "10   Nov  32  22  16\n",
       "11   Des  20  25  20"
      ]
     },
     "execution_count": 51,
     "metadata": {},
     "output_type": "execute_result"
    }
   ],
   "source": [
    "excel_path = \"dataset.xlsx\"\n",
    "df = pd.read_excel(excel_path,usecols=[1,2,3,4]).astype(str)\n",
    "df.head(12)"
   ]
  },
  {
   "attachments": {},
   "cell_type": "markdown",
   "metadata": {},
   "source": [
    "<h1 id=\"preprocessing\">Uji Proses Preprocessing </h1>"
   ]
  },
  {
   "attachments": {},
   "cell_type": "markdown",
   "metadata": {},
   "source": [
    "Proses uji preprocessing adalah tahapan dalam pengolahan data di mana data mentah atau data yang belum siap digunakan untuk analisis atau pemodelan dipersiapkan dan dibersihkan agar lebih sesuai untuk digunakan dalam proses selanjutnya.\n",
    "\n",
    "Tujuan dari proses uji preprocessing adalah untuk meningkatkan kualitas dan kegunaan data dengan menghilangkan ketidaksesuaian, kekacauan, atau kecacatan yang mungkin ada dalam data mentah."
   ]
  },
  {
   "attachments": {},
   "cell_type": "markdown",
   "metadata": {},
   "source": [
    "## 1. Format Penulisan"
   ]
  },
  {
   "attachments": {},
   "cell_type": "markdown",
   "metadata": {},
   "source": [
    "Konversi tipe data adalah salah satu langkah yang umum dilakukan dalam tahap uji preprocessing untuk memastikan bahwa data memiliki format yang sesuai untuk analisis atau pemodelan yang akan dilakukan.\n",
    "\n",
    "Proses konversi tipe data melibatkan mengubah jenis data dari satu format ke format lain yang lebih cocok untuk keperluan tertentu."
   ]
  },
  {
   "cell_type": "code",
   "execution_count": 52,
   "metadata": {},
   "outputs": [
    {
     "name": "stderr",
     "output_type": "stream",
     "text": [
      "C:\\Users\\ACER\\AppData\\Local\\Temp\\ipykernel_9284\\79152577.py:1: FutureWarning: The default value of regex will change from True to False in a future version.\n",
      "  df[\"PM1\"] = df[\"PM1\"].str.replace('[a-zA-Z]', '')\n",
      "C:\\Users\\ACER\\AppData\\Local\\Temp\\ipykernel_9284\\79152577.py:2: FutureWarning: The default value of regex will change from True to False in a future version.\n",
      "  df[\"PM2\"] = df[\"PM2\"].str.replace('[a-zA-Z]', '')\n",
      "C:\\Users\\ACER\\AppData\\Local\\Temp\\ipykernel_9284\\79152577.py:3: FutureWarning: The default value of regex will change from True to False in a future version.\n",
      "  df[\"PM3\"] = df[\"PM3\"].str.replace('[a-zA-Z]', '')\n"
     ]
    },
    {
     "data": {
      "text/plain": [
       "Bulan    object\n",
       "PM1       int32\n",
       "PM2       int32\n",
       "PM3       int32\n",
       "dtype: object"
      ]
     },
     "execution_count": 52,
     "metadata": {},
     "output_type": "execute_result"
    }
   ],
   "source": [
    "df[\"PM1\"] = df[\"PM1\"].str.replace('[a-zA-Z]', '')\n",
    "df[\"PM2\"] = df[\"PM2\"].str.replace('[a-zA-Z]', '')\n",
    "df[\"PM3\"] = df[\"PM3\"].str.replace('[a-zA-Z]', '')\n",
    "df[\"PM1\"] = df[\"PM1\"].astype(int)\n",
    "df[\"PM2\"] = df[\"PM2\"].astype(int)\n",
    "df[\"PM3\"] = df[\"PM3\"].astype(int)\n",
    "df.dtypes"
   ]
  },
  {
   "attachments": {},
   "cell_type": "markdown",
   "metadata": {},
   "source": [
    "## 2. Data Kosong"
   ]
  },
  {
   "attachments": {},
   "cell_type": "markdown",
   "metadata": {},
   "source": [
    "Mengatasi data kosong atau nilai yang hilang merupakan langkah penting dalam tahap uji preprocessing. Data kosong atau nilai yang hilang dapat mempengaruhi kualitas analisis atau pemodelan yang dilakukan.\n",
    "\n",
    "Salah satu pendekatan yang sederhana adalah dengan menghapus baris atau kolom yang mengandung nilai yang kosong. Namun, pendekatan ini harus digunakan dengan hati-hati karena dapat menyebabkan kehilangan informasi yang penting jika data yang kosong cukup signifikan."
   ]
  },
  {
   "cell_type": "code",
   "execution_count": 58,
   "metadata": {},
   "outputs": [
    {
     "data": {
      "text/html": [
       "<div>\n",
       "<style scoped>\n",
       "    .dataframe tbody tr th:only-of-type {\n",
       "        vertical-align: middle;\n",
       "    }\n",
       "\n",
       "    .dataframe tbody tr th {\n",
       "        vertical-align: top;\n",
       "    }\n",
       "\n",
       "    .dataframe thead th {\n",
       "        text-align: right;\n",
       "    }\n",
       "</style>\n",
       "<table border=\"1\" class=\"dataframe\">\n",
       "  <thead>\n",
       "    <tr style=\"text-align: right;\">\n",
       "      <th></th>\n",
       "      <th>Bulan</th>\n",
       "      <th>PM1</th>\n",
       "      <th>PM2</th>\n",
       "      <th>PM3</th>\n",
       "    </tr>\n",
       "  </thead>\n",
       "  <tbody>\n",
       "    <tr>\n",
       "      <th>0</th>\n",
       "      <td>Jan</td>\n",
       "      <td>28</td>\n",
       "      <td>25</td>\n",
       "      <td>15</td>\n",
       "    </tr>\n",
       "    <tr>\n",
       "      <th>1</th>\n",
       "      <td>Feb</td>\n",
       "      <td>15</td>\n",
       "      <td>23</td>\n",
       "      <td>18</td>\n",
       "    </tr>\n",
       "    <tr>\n",
       "      <th>2</th>\n",
       "      <td>Mar</td>\n",
       "      <td>22</td>\n",
       "      <td>26</td>\n",
       "      <td>10</td>\n",
       "    </tr>\n",
       "    <tr>\n",
       "      <th>3</th>\n",
       "      <td>Apr</td>\n",
       "      <td>9</td>\n",
       "      <td>5</td>\n",
       "      <td>10</td>\n",
       "    </tr>\n",
       "    <tr>\n",
       "      <th>4</th>\n",
       "      <td>Mei</td>\n",
       "      <td>30</td>\n",
       "      <td>28</td>\n",
       "      <td>16</td>\n",
       "    </tr>\n",
       "    <tr>\n",
       "      <th>5</th>\n",
       "      <td>Jun</td>\n",
       "      <td>27</td>\n",
       "      <td>23</td>\n",
       "      <td>14</td>\n",
       "    </tr>\n",
       "    <tr>\n",
       "      <th>6</th>\n",
       "      <td>Jul</td>\n",
       "      <td>35</td>\n",
       "      <td>25</td>\n",
       "      <td>18</td>\n",
       "    </tr>\n",
       "    <tr>\n",
       "      <th>7</th>\n",
       "      <td>Agu</td>\n",
       "      <td>28</td>\n",
       "      <td>20</td>\n",
       "      <td>18</td>\n",
       "    </tr>\n",
       "    <tr>\n",
       "      <th>8</th>\n",
       "      <td>Sep</td>\n",
       "      <td>18</td>\n",
       "      <td>22</td>\n",
       "      <td>18</td>\n",
       "    </tr>\n",
       "    <tr>\n",
       "      <th>9</th>\n",
       "      <td>Okt</td>\n",
       "      <td>25</td>\n",
       "      <td>18</td>\n",
       "      <td>10</td>\n",
       "    </tr>\n",
       "    <tr>\n",
       "      <th>10</th>\n",
       "      <td>Nov</td>\n",
       "      <td>32</td>\n",
       "      <td>22</td>\n",
       "      <td>16</td>\n",
       "    </tr>\n",
       "    <tr>\n",
       "      <th>11</th>\n",
       "      <td>Des</td>\n",
       "      <td>20</td>\n",
       "      <td>25</td>\n",
       "      <td>20</td>\n",
       "    </tr>\n",
       "  </tbody>\n",
       "</table>\n",
       "</div>"
      ],
      "text/plain": [
       "   Bulan  PM1  PM2  PM3\n",
       "0    Jan   28   25   15\n",
       "1    Feb   15   23   18\n",
       "2    Mar   22   26   10\n",
       "3    Apr    9    5   10\n",
       "4    Mei   30   28   16\n",
       "5    Jun   27   23   14\n",
       "6    Jul   35   25   18\n",
       "7    Agu   28   20   18\n",
       "8    Sep   18   22   18\n",
       "9    Okt   25   18   10\n",
       "10   Nov   32   22   16\n",
       "11   Des   20   25   20"
      ]
     },
     "execution_count": 58,
     "metadata": {},
     "output_type": "execute_result"
    }
   ],
   "source": [
    "df = df.dropna()\n",
    "df.head(12)"
   ]
  },
  {
   "attachments": {},
   "cell_type": "markdown",
   "metadata": {},
   "source": [
    "<h1 id=\"hipotesis\">Uji Hipotesis</h1>"
   ]
  },
  {
   "cell_type": "code",
   "execution_count": 64,
   "metadata": {},
   "outputs": [
    {
     "name": "stdout",
     "output_type": "stream",
     "text": [
      "Hasil Uji Hipotesis: \n",
      "Nilai p-value: 0.002475154321574239\n",
      "Hipotesis nol ditolak Terdapat ada perbedaan yang signifikan antara penjualan peralatan motor\n"
     ]
    }
   ],
   "source": [
    "h0 = \"Tidak ada perbedaan yang signifikan antara penjualan peralatan motor\"\n",
    "h1 = \"Terdapat ada perbedaan yang signifikan antara penjualan peralatan motor\"\n",
    "\n",
    "t_statistic, p_value = stats.f_oneway(df['PM1'], df['PM2'], df['PM3'])\n",
    "alpha = 0.05\n",
    "\n",
    "print(\"Hasil Uji Hipotesis:\",\"\\nNilai p-value:\",p_value)\n",
    "if p_value < alpha:\n",
    "    print(\"Hipotesis nol ditolak\",h1)\n",
    "else:\n",
    "    print(\"Hipotesis nol diterima\",h0)"
   ]
  }
 ],
 "metadata": {
  "kernelspec": {
   "display_name": "Python 3",
   "language": "python",
   "name": "python3"
  },
  "language_info": {
   "codemirror_mode": {
    "name": "ipython",
    "version": 3
   },
   "file_extension": ".py",
   "mimetype": "text/x-python",
   "name": "python",
   "nbconvert_exporter": "python",
   "pygments_lexer": "ipython3",
   "version": "3.11.2"
  },
  "orig_nbformat": 4
 },
 "nbformat": 4,
 "nbformat_minor": 2
}
