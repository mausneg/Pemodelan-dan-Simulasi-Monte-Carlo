{
 "cells": [
  {
   "cell_type": "markdown",
   "id": "c20c5bcb",
   "metadata": {},
   "source": [
    "Test"
   ]
  },
  {
   "cell_type": "markdown",
   "id": "3b4fb738",
   "metadata": {},
   "source": [
    "# Heading 2"
   ]
  },
  {
   "cell_type": "markdown",
   "id": "ce9995de",
   "metadata": {},
   "source": [
    "<h1>Header 1, Judul<h1>"
   ]
  },
  {
   "cell_type": "markdown",
   "id": "68880c1b",
   "metadata": {},
   "source": [
    "<h2>Header 2, Judul<h2>"
   ]
  },
  {
   "cell_type": "markdown",
   "id": "b7db449c",
   "metadata": {},
   "source": [
    "<h3>Header 3, Judul<h3>"
   ]
  },
  {
   "cell_type": "markdown",
   "id": "23cb968f",
   "metadata": {},
   "source": [
    "<blockquote> block quote </blockquote>"
   ]
  },
  {
   "cell_type": "markdown",
   "id": "bd12850e",
   "metadata": {},
   "source": [
    "`x=5`"
   ]
  },
  {
   "cell_type": "markdown",
   "id": "394f4604",
   "metadata": {},
   "source": [
    "<code>Python\n",
    "str=\"ini adalah code\"\n",
    "print(str)\n",
    "</code>"
   ]
  },
  {
   "cell_type": "markdown",
   "id": "0527287c",
   "metadata": {},
   "source": [
    "$\\sqrt{k}$"
   ]
  },
  {
   "cell_type": "markdown",
   "id": "313f60ba",
   "metadata": {},
   "source": [
    "$\\hat{Y}$"
   ]
  },
  {
   "cell_type": "markdown",
   "id": "71b116b4",
   "metadata": {},
   "source": [
    "The line breake after using <br> br tags and it is aweshome "
   ]
  },
  {
   "cell_type": "markdown",
   "id": "a93ae95e",
   "metadata": {},
   "source": [
    "<b>This is bold text</b>"
   ]
  },
  {
   "cell_type": "markdown",
   "id": "e4431fdd",
   "metadata": {},
   "source": [
    "<i>This is bold text</i>"
   ]
  },
  {
   "cell_type": "markdown",
   "id": "cd9b8fcf",
   "metadata": {},
   "source": [
    "-------------------"
   ]
  },
  {
   "cell_type": "markdown",
   "id": "16acc560",
   "metadata": {},
   "source": [
    "<ol>\n",
    "<li> data 1</li>\n",
    "<li> data 2</li>\n",
    "<li> data 3</li>\n",
    "</ol>"
   ]
  },
  {
   "cell_type": "markdown",
   "id": "a67ea5fd",
   "metadata": {},
   "source": [
    "<ul>\n",
    "<li> data 1</li>\n",
    "<li> data 2</li>\n",
    "<li> data 3</li>\n",
    "</ul>"
   ]
  },
  {
   "cell_type": "markdown",
   "id": "44908424",
   "metadata": {},
   "source": [
    "<a href=\"https://google.com\"> Link to Google </a>"
   ]
  },
  {
   "cell_type": "markdown",
   "id": "58d0073b",
   "metadata": {},
   "source": [
    "|this |is   |\n",
    "|-----|-----|\n",
    "|a    |Table|"
   ]
  },
  {
   "cell_type": "markdown",
   "id": "c148267e",
   "metadata": {},
   "source": [
    "| <img src=\"https://unram.ac.id/wp-content/uploads/2018/09/UNRAM-LOGO-FIX-STATUTA-.png\" style=\"height: 100px\" /> | <img src=\"https://s3.dualstack.us-east-2.amazonaws.com/pythondotorg-assets/media/community/logos/python-logo-only.png\" style=\"height: 100px\"/> \n",
    "| ------------- | -------------"
   ]
  }
 ],
 "metadata": {
  "kernelspec": {
   "display_name": "Python 3 (ipykernel)",
   "language": "python",
   "name": "python3"
  },
  "language_info": {
   "codemirror_mode": {
    "name": "ipython",
    "version": 3
   },
   "file_extension": ".py",
   "mimetype": "text/x-python",
   "name": "python",
   "nbconvert_exporter": "python",
   "pygments_lexer": "ipython3",
   "version": "3.10.9"
  }
 },
 "nbformat": 4,
 "nbformat_minor": 5
}
