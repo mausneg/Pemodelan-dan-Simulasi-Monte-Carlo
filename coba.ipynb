{
 "cells": [
  {
   "cell_type": "code",
   "execution_count": 1,
   "metadata": {},
   "outputs": [],
   "source": [
    "import pandas as pd\n",
    "import numpy as np\n",
    "import matplotlib as mpl"
   ]
  },
  {
   "cell_type": "code",
   "execution_count": 9,
   "metadata": {},
   "outputs": [
    {
     "name": "stdout",
     "output_type": "stream",
     "text": [
      "      Bulan  PM1  PM2  PM3\n",
      "0       Jan   28   25   15\n",
      "1       Feb   15   23   18\n",
      "2       Mar   22   26   10\n",
      "3       Apr    9    5   10\n",
      "4       Mei   30   28   16\n",
      "5       Jun   27   23   14\n",
      "6       Jul   35   25   18\n",
      "7       Agu   28   20   18\n",
      "8       Sep   18   22   18\n",
      "9       Okt   25   18   10\n",
      "10      Nov   32   22   16\n",
      "11      Des   20   25   20\n",
      "12  Total :  289  262  183\n"
     ]
    }
   ],
   "source": [
    "excel_path = \"dataset.xlsx\"\n",
    "df = pd.read_excel(excel_path,usecols=[1,2,3,4])\n",
    "# df = df.fillna(method=\"ffill\")\n",
    "print(df)"
   ]
  }
 ],
 "metadata": {
  "kernelspec": {
   "display_name": "Python 3",
   "language": "python",
   "name": "python3"
  },
  "language_info": {
   "codemirror_mode": {
    "name": "ipython",
    "version": 3
   },
   "file_extension": ".py",
   "mimetype": "text/x-python",
   "name": "python",
   "nbconvert_exporter": "python",
   "pygments_lexer": "ipython3",
   "version": "3.11.2"
  },
  "orig_nbformat": 4
 },
 "nbformat": 4,
 "nbformat_minor": 2
}
